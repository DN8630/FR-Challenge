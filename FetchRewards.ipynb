{
 "cells": [
  {
   "cell_type": "code",
   "execution_count": 1,
   "id": "c7a23f01",
   "metadata": {},
   "outputs": [],
   "source": [
    "import pandas as pd\n",
    "import json\n",
    "from ast import literal_eval\n",
    "from datetime import datetime\n",
    "import gzip\n",
    "import math\n"
   ]
  },
  {
   "cell_type": "markdown",
   "id": "6aa93b1b",
   "metadata": {},
   "source": [
    "#### Importing users json file"
   ]
  },
  {
   "cell_type": "code",
   "execution_count": 2,
   "id": "6a8634b9",
   "metadata": {},
   "outputs": [],
   "source": [
    "with gzip.GzipFile('/Users/daya/Desktop/Pay/FR/users.json.gz','r',) as fin:\n",
    "    data =[]\n",
    "    for line in fin:\n",
    "        data.append(json.loads(line.decode('utf-8')))\n"
   ]
  },
  {
   "cell_type": "code",
   "execution_count": 3,
   "id": "00e5a5f9",
   "metadata": {},
   "outputs": [],
   "source": [
    "users_df = pd.json_normalize(data)"
   ]
  },
  {
   "cell_type": "code",
   "execution_count": 4,
   "id": "e5a8f338",
   "metadata": {},
   "outputs": [
    {
     "data": {
      "text/html": [
       "<div>\n",
       "<style scoped>\n",
       "    .dataframe tbody tr th:only-of-type {\n",
       "        vertical-align: middle;\n",
       "    }\n",
       "\n",
       "    .dataframe tbody tr th {\n",
       "        vertical-align: top;\n",
       "    }\n",
       "\n",
       "    .dataframe thead th {\n",
       "        text-align: right;\n",
       "    }\n",
       "</style>\n",
       "<table border=\"1\" class=\"dataframe\">\n",
       "  <thead>\n",
       "    <tr style=\"text-align: right;\">\n",
       "      <th></th>\n",
       "      <th>active</th>\n",
       "      <th>role</th>\n",
       "      <th>signUpSource</th>\n",
       "      <th>state</th>\n",
       "      <th>_id.$oid</th>\n",
       "      <th>createdDate.$date</th>\n",
       "      <th>lastLogin.$date</th>\n",
       "    </tr>\n",
       "  </thead>\n",
       "  <tbody>\n",
       "    <tr>\n",
       "      <th>0</th>\n",
       "      <td>True</td>\n",
       "      <td>consumer</td>\n",
       "      <td>Email</td>\n",
       "      <td>WI</td>\n",
       "      <td>5ff1e194b6a9d73a3a9f1052</td>\n",
       "      <td>1609687444800</td>\n",
       "      <td>1.609688e+12</td>\n",
       "    </tr>\n",
       "    <tr>\n",
       "      <th>1</th>\n",
       "      <td>True</td>\n",
       "      <td>consumer</td>\n",
       "      <td>Email</td>\n",
       "      <td>WI</td>\n",
       "      <td>5ff1e194b6a9d73a3a9f1052</td>\n",
       "      <td>1609687444800</td>\n",
       "      <td>1.609688e+12</td>\n",
       "    </tr>\n",
       "    <tr>\n",
       "      <th>2</th>\n",
       "      <td>True</td>\n",
       "      <td>consumer</td>\n",
       "      <td>Email</td>\n",
       "      <td>WI</td>\n",
       "      <td>5ff1e194b6a9d73a3a9f1052</td>\n",
       "      <td>1609687444800</td>\n",
       "      <td>1.609688e+12</td>\n",
       "    </tr>\n",
       "    <tr>\n",
       "      <th>3</th>\n",
       "      <td>True</td>\n",
       "      <td>consumer</td>\n",
       "      <td>Email</td>\n",
       "      <td>WI</td>\n",
       "      <td>5ff1e1eacfcf6c399c274ae6</td>\n",
       "      <td>1609687530554</td>\n",
       "      <td>1.609688e+12</td>\n",
       "    </tr>\n",
       "    <tr>\n",
       "      <th>4</th>\n",
       "      <td>True</td>\n",
       "      <td>consumer</td>\n",
       "      <td>Email</td>\n",
       "      <td>WI</td>\n",
       "      <td>5ff1e194b6a9d73a3a9f1052</td>\n",
       "      <td>1609687444800</td>\n",
       "      <td>1.609688e+12</td>\n",
       "    </tr>\n",
       "  </tbody>\n",
       "</table>\n",
       "</div>"
      ],
      "text/plain": [
       "   active      role signUpSource state                  _id.$oid  \\\n",
       "0    True  consumer        Email    WI  5ff1e194b6a9d73a3a9f1052   \n",
       "1    True  consumer        Email    WI  5ff1e194b6a9d73a3a9f1052   \n",
       "2    True  consumer        Email    WI  5ff1e194b6a9d73a3a9f1052   \n",
       "3    True  consumer        Email    WI  5ff1e1eacfcf6c399c274ae6   \n",
       "4    True  consumer        Email    WI  5ff1e194b6a9d73a3a9f1052   \n",
       "\n",
       "   createdDate.$date  lastLogin.$date  \n",
       "0      1609687444800     1.609688e+12  \n",
       "1      1609687444800     1.609688e+12  \n",
       "2      1609687444800     1.609688e+12  \n",
       "3      1609687530554     1.609688e+12  \n",
       "4      1609687444800     1.609688e+12  "
      ]
     },
     "execution_count": 4,
     "metadata": {},
     "output_type": "execute_result"
    }
   ],
   "source": [
    "users_df.head()"
   ]
  },
  {
   "cell_type": "code",
   "execution_count": 5,
   "id": "bc205df5",
   "metadata": {},
   "outputs": [],
   "source": [
    "users_df = users_df.rename({'_id.$oid': 'id', 'createdDate.$date':'createdDate', 'lastLogin.$date': 'lastLogin'}, axis=1)"
   ]
  },
  {
   "cell_type": "markdown",
   "id": "943b6444",
   "metadata": {},
   "source": [
    "#### Function to convert dates"
   ]
  },
  {
   "cell_type": "code",
   "execution_count": 6,
   "id": "9381551d",
   "metadata": {},
   "outputs": [],
   "source": [
    "def convert_date(x):\n",
    "    if(math.isnan(x)):\n",
    "        return(None)\n",
    "    else:\n",
    "        try:\n",
    "            return(datetime.utcfromtimestamp(int(x)/1000).strftime('%Y-%m-%d %H:%M:%S'))\n",
    "        except TypeError:\n",
    "            return(None)"
   ]
  },
  {
   "cell_type": "code",
   "execution_count": 7,
   "id": "0ae3262e",
   "metadata": {},
   "outputs": [],
   "source": [
    "users_df['createdDate'] = users_df['createdDate'].apply(lambda x:convert_date(x))\n",
    "users_df['lastLogin'] = users_df['lastLogin'].apply(lambda x:convert_date(x))"
   ]
  },
  {
   "cell_type": "markdown",
   "id": "39f3125a",
   "metadata": {},
   "source": [
    "#### Final transformed users dataframe"
   ]
  },
  {
   "cell_type": "code",
   "execution_count": 8,
   "id": "f5328e92",
   "metadata": {},
   "outputs": [
    {
     "data": {
      "text/html": [
       "<div>\n",
       "<style scoped>\n",
       "    .dataframe tbody tr th:only-of-type {\n",
       "        vertical-align: middle;\n",
       "    }\n",
       "\n",
       "    .dataframe tbody tr th {\n",
       "        vertical-align: top;\n",
       "    }\n",
       "\n",
       "    .dataframe thead th {\n",
       "        text-align: right;\n",
       "    }\n",
       "</style>\n",
       "<table border=\"1\" class=\"dataframe\">\n",
       "  <thead>\n",
       "    <tr style=\"text-align: right;\">\n",
       "      <th></th>\n",
       "      <th>active</th>\n",
       "      <th>role</th>\n",
       "      <th>signUpSource</th>\n",
       "      <th>state</th>\n",
       "      <th>id</th>\n",
       "      <th>createdDate</th>\n",
       "      <th>lastLogin</th>\n",
       "    </tr>\n",
       "  </thead>\n",
       "  <tbody>\n",
       "    <tr>\n",
       "      <th>0</th>\n",
       "      <td>True</td>\n",
       "      <td>consumer</td>\n",
       "      <td>Email</td>\n",
       "      <td>WI</td>\n",
       "      <td>5ff1e194b6a9d73a3a9f1052</td>\n",
       "      <td>2021-01-03 15:24:04</td>\n",
       "      <td>2021-01-03 15:25:37</td>\n",
       "    </tr>\n",
       "    <tr>\n",
       "      <th>1</th>\n",
       "      <td>True</td>\n",
       "      <td>consumer</td>\n",
       "      <td>Email</td>\n",
       "      <td>WI</td>\n",
       "      <td>5ff1e194b6a9d73a3a9f1052</td>\n",
       "      <td>2021-01-03 15:24:04</td>\n",
       "      <td>2021-01-03 15:25:37</td>\n",
       "    </tr>\n",
       "    <tr>\n",
       "      <th>2</th>\n",
       "      <td>True</td>\n",
       "      <td>consumer</td>\n",
       "      <td>Email</td>\n",
       "      <td>WI</td>\n",
       "      <td>5ff1e194b6a9d73a3a9f1052</td>\n",
       "      <td>2021-01-03 15:24:04</td>\n",
       "      <td>2021-01-03 15:25:37</td>\n",
       "    </tr>\n",
       "    <tr>\n",
       "      <th>3</th>\n",
       "      <td>True</td>\n",
       "      <td>consumer</td>\n",
       "      <td>Email</td>\n",
       "      <td>WI</td>\n",
       "      <td>5ff1e1eacfcf6c399c274ae6</td>\n",
       "      <td>2021-01-03 15:25:30</td>\n",
       "      <td>2021-01-03 15:25:30</td>\n",
       "    </tr>\n",
       "    <tr>\n",
       "      <th>4</th>\n",
       "      <td>True</td>\n",
       "      <td>consumer</td>\n",
       "      <td>Email</td>\n",
       "      <td>WI</td>\n",
       "      <td>5ff1e194b6a9d73a3a9f1052</td>\n",
       "      <td>2021-01-03 15:24:04</td>\n",
       "      <td>2021-01-03 15:25:37</td>\n",
       "    </tr>\n",
       "  </tbody>\n",
       "</table>\n",
       "</div>"
      ],
      "text/plain": [
       "   active      role signUpSource state                        id  \\\n",
       "0    True  consumer        Email    WI  5ff1e194b6a9d73a3a9f1052   \n",
       "1    True  consumer        Email    WI  5ff1e194b6a9d73a3a9f1052   \n",
       "2    True  consumer        Email    WI  5ff1e194b6a9d73a3a9f1052   \n",
       "3    True  consumer        Email    WI  5ff1e1eacfcf6c399c274ae6   \n",
       "4    True  consumer        Email    WI  5ff1e194b6a9d73a3a9f1052   \n",
       "\n",
       "           createdDate            lastLogin  \n",
       "0  2021-01-03 15:24:04  2021-01-03 15:25:37  \n",
       "1  2021-01-03 15:24:04  2021-01-03 15:25:37  \n",
       "2  2021-01-03 15:24:04  2021-01-03 15:25:37  \n",
       "3  2021-01-03 15:25:30  2021-01-03 15:25:30  \n",
       "4  2021-01-03 15:24:04  2021-01-03 15:25:37  "
      ]
     },
     "execution_count": 8,
     "metadata": {},
     "output_type": "execute_result"
    }
   ],
   "source": [
    "users_df.head()"
   ]
  },
  {
   "cell_type": "code",
   "execution_count": 9,
   "id": "e217b261",
   "metadata": {},
   "outputs": [
    {
     "name": "stdout",
     "output_type": "stream",
     "text": [
      "<class 'pandas.core.frame.DataFrame'>\n",
      "RangeIndex: 495 entries, 0 to 494\n",
      "Data columns (total 7 columns):\n",
      " #   Column        Non-Null Count  Dtype \n",
      "---  ------        --------------  ----- \n",
      " 0   active        495 non-null    bool  \n",
      " 1   role          495 non-null    object\n",
      " 2   signUpSource  447 non-null    object\n",
      " 3   state         439 non-null    object\n",
      " 4   id            495 non-null    object\n",
      " 5   createdDate   495 non-null    object\n",
      " 6   lastLogin     433 non-null    object\n",
      "dtypes: bool(1), object(6)\n",
      "memory usage: 23.8+ KB\n"
     ]
    }
   ],
   "source": [
    "users_df.info()"
   ]
  },
  {
   "cell_type": "code",
   "execution_count": 10,
   "id": "7dbb5369",
   "metadata": {},
   "outputs": [
    {
     "data": {
      "text/plain": [
       "active           0\n",
       "role             0\n",
       "signUpSource    48\n",
       "state           56\n",
       "id               0\n",
       "createdDate      0\n",
       "lastLogin       62\n",
       "dtype: int64"
      ]
     },
     "execution_count": 10,
     "metadata": {},
     "output_type": "execute_result"
    }
   ],
   "source": [
    "users_df.isna().sum()"
   ]
  },
  {
   "cell_type": "code",
   "execution_count": 11,
   "id": "580d521f",
   "metadata": {},
   "outputs": [
    {
     "data": {
      "text/html": [
       "<div>\n",
       "<style scoped>\n",
       "    .dataframe tbody tr th:only-of-type {\n",
       "        vertical-align: middle;\n",
       "    }\n",
       "\n",
       "    .dataframe tbody tr th {\n",
       "        vertical-align: top;\n",
       "    }\n",
       "\n",
       "    .dataframe thead th {\n",
       "        text-align: right;\n",
       "    }\n",
       "</style>\n",
       "<table border=\"1\" class=\"dataframe\">\n",
       "  <thead>\n",
       "    <tr style=\"text-align: right;\">\n",
       "      <th></th>\n",
       "      <th>active</th>\n",
       "      <th>role</th>\n",
       "      <th>signUpSource</th>\n",
       "      <th>state</th>\n",
       "      <th>id</th>\n",
       "      <th>createdDate</th>\n",
       "      <th>lastLogin</th>\n",
       "    </tr>\n",
       "  </thead>\n",
       "  <tbody>\n",
       "    <tr>\n",
       "      <th>1</th>\n",
       "      <td>True</td>\n",
       "      <td>consumer</td>\n",
       "      <td>Email</td>\n",
       "      <td>WI</td>\n",
       "      <td>5ff1e194b6a9d73a3a9f1052</td>\n",
       "      <td>2021-01-03 15:24:04</td>\n",
       "      <td>2021-01-03 15:25:37</td>\n",
       "    </tr>\n",
       "    <tr>\n",
       "      <th>2</th>\n",
       "      <td>True</td>\n",
       "      <td>consumer</td>\n",
       "      <td>Email</td>\n",
       "      <td>WI</td>\n",
       "      <td>5ff1e194b6a9d73a3a9f1052</td>\n",
       "      <td>2021-01-03 15:24:04</td>\n",
       "      <td>2021-01-03 15:25:37</td>\n",
       "    </tr>\n",
       "    <tr>\n",
       "      <th>4</th>\n",
       "      <td>True</td>\n",
       "      <td>consumer</td>\n",
       "      <td>Email</td>\n",
       "      <td>WI</td>\n",
       "      <td>5ff1e194b6a9d73a3a9f1052</td>\n",
       "      <td>2021-01-03 15:24:04</td>\n",
       "      <td>2021-01-03 15:25:37</td>\n",
       "    </tr>\n",
       "    <tr>\n",
       "      <th>5</th>\n",
       "      <td>True</td>\n",
       "      <td>consumer</td>\n",
       "      <td>Email</td>\n",
       "      <td>WI</td>\n",
       "      <td>5ff1e194b6a9d73a3a9f1052</td>\n",
       "      <td>2021-01-03 15:24:04</td>\n",
       "      <td>2021-01-03 15:25:37</td>\n",
       "    </tr>\n",
       "    <tr>\n",
       "      <th>8</th>\n",
       "      <td>True</td>\n",
       "      <td>consumer</td>\n",
       "      <td>Email</td>\n",
       "      <td>WI</td>\n",
       "      <td>5ff1e194b6a9d73a3a9f1052</td>\n",
       "      <td>2021-01-03 15:24:04</td>\n",
       "      <td>2021-01-03 15:25:37</td>\n",
       "    </tr>\n",
       "    <tr>\n",
       "      <th>...</th>\n",
       "      <td>...</td>\n",
       "      <td>...</td>\n",
       "      <td>...</td>\n",
       "      <td>...</td>\n",
       "      <td>...</td>\n",
       "      <td>...</td>\n",
       "      <td>...</td>\n",
       "    </tr>\n",
       "    <tr>\n",
       "      <th>490</th>\n",
       "      <td>True</td>\n",
       "      <td>fetch-staff</td>\n",
       "      <td>NaN</td>\n",
       "      <td>NaN</td>\n",
       "      <td>54943462e4b07e684157a532</td>\n",
       "      <td>2014-12-19 14:21:22</td>\n",
       "      <td>2021-03-05 16:52:23</td>\n",
       "    </tr>\n",
       "    <tr>\n",
       "      <th>491</th>\n",
       "      <td>True</td>\n",
       "      <td>fetch-staff</td>\n",
       "      <td>NaN</td>\n",
       "      <td>NaN</td>\n",
       "      <td>54943462e4b07e684157a532</td>\n",
       "      <td>2014-12-19 14:21:22</td>\n",
       "      <td>2021-03-05 16:52:23</td>\n",
       "    </tr>\n",
       "    <tr>\n",
       "      <th>492</th>\n",
       "      <td>True</td>\n",
       "      <td>fetch-staff</td>\n",
       "      <td>NaN</td>\n",
       "      <td>NaN</td>\n",
       "      <td>54943462e4b07e684157a532</td>\n",
       "      <td>2014-12-19 14:21:22</td>\n",
       "      <td>2021-03-05 16:52:23</td>\n",
       "    </tr>\n",
       "    <tr>\n",
       "      <th>493</th>\n",
       "      <td>True</td>\n",
       "      <td>fetch-staff</td>\n",
       "      <td>NaN</td>\n",
       "      <td>NaN</td>\n",
       "      <td>54943462e4b07e684157a532</td>\n",
       "      <td>2014-12-19 14:21:22</td>\n",
       "      <td>2021-03-05 16:52:23</td>\n",
       "    </tr>\n",
       "    <tr>\n",
       "      <th>494</th>\n",
       "      <td>True</td>\n",
       "      <td>fetch-staff</td>\n",
       "      <td>NaN</td>\n",
       "      <td>NaN</td>\n",
       "      <td>54943462e4b07e684157a532</td>\n",
       "      <td>2014-12-19 14:21:22</td>\n",
       "      <td>2021-03-05 16:52:23</td>\n",
       "    </tr>\n",
       "  </tbody>\n",
       "</table>\n",
       "<p>283 rows × 7 columns</p>\n",
       "</div>"
      ],
      "text/plain": [
       "     active         role signUpSource state                        id  \\\n",
       "1      True     consumer        Email    WI  5ff1e194b6a9d73a3a9f1052   \n",
       "2      True     consumer        Email    WI  5ff1e194b6a9d73a3a9f1052   \n",
       "4      True     consumer        Email    WI  5ff1e194b6a9d73a3a9f1052   \n",
       "5      True     consumer        Email    WI  5ff1e194b6a9d73a3a9f1052   \n",
       "8      True     consumer        Email    WI  5ff1e194b6a9d73a3a9f1052   \n",
       "..      ...          ...          ...   ...                       ...   \n",
       "490    True  fetch-staff          NaN   NaN  54943462e4b07e684157a532   \n",
       "491    True  fetch-staff          NaN   NaN  54943462e4b07e684157a532   \n",
       "492    True  fetch-staff          NaN   NaN  54943462e4b07e684157a532   \n",
       "493    True  fetch-staff          NaN   NaN  54943462e4b07e684157a532   \n",
       "494    True  fetch-staff          NaN   NaN  54943462e4b07e684157a532   \n",
       "\n",
       "             createdDate            lastLogin  \n",
       "1    2021-01-03 15:24:04  2021-01-03 15:25:37  \n",
       "2    2021-01-03 15:24:04  2021-01-03 15:25:37  \n",
       "4    2021-01-03 15:24:04  2021-01-03 15:25:37  \n",
       "5    2021-01-03 15:24:04  2021-01-03 15:25:37  \n",
       "8    2021-01-03 15:24:04  2021-01-03 15:25:37  \n",
       "..                   ...                  ...  \n",
       "490  2014-12-19 14:21:22  2021-03-05 16:52:23  \n",
       "491  2014-12-19 14:21:22  2021-03-05 16:52:23  \n",
       "492  2014-12-19 14:21:22  2021-03-05 16:52:23  \n",
       "493  2014-12-19 14:21:22  2021-03-05 16:52:23  \n",
       "494  2014-12-19 14:21:22  2021-03-05 16:52:23  \n",
       "\n",
       "[283 rows x 7 columns]"
      ]
     },
     "execution_count": 11,
     "metadata": {},
     "output_type": "execute_result"
    }
   ],
   "source": [
    "# Check for duplicate records\n",
    "\n",
    "users_df[users_df.duplicated()]"
   ]
  },
  {
   "cell_type": "markdown",
   "id": "112fdc53",
   "metadata": {},
   "source": [
    "#### There are a large number of duplicate records of users."
   ]
  },
  {
   "cell_type": "code",
   "execution_count": 12,
   "id": "3b611112",
   "metadata": {},
   "outputs": [
    {
     "data": {
      "text/plain": [
       "array(['Email', 'Google', nan], dtype=object)"
      ]
     },
     "execution_count": 12,
     "metadata": {},
     "output_type": "execute_result"
    }
   ],
   "source": [
    "# Finding the sources of signups\n",
    "\n",
    "users_df['signUpSource'].unique()"
   ]
  },
  {
   "cell_type": "markdown",
   "id": "1664243d",
   "metadata": {},
   "source": [
    "#### Data quality issues in Users:\n",
    "\n",
    "##### More than 50% user records are duplicate. "
   ]
  },
  {
   "cell_type": "code",
   "execution_count": 13,
   "id": "ed7cbb8a",
   "metadata": {},
   "outputs": [],
   "source": [
    "users_df.to_excel('/Users/daya/Desktop/Pay/FR/users.xlsx')"
   ]
  },
  {
   "cell_type": "markdown",
   "id": "8963a26f",
   "metadata": {},
   "source": [
    "#### Importing Brands json"
   ]
  },
  {
   "cell_type": "code",
   "execution_count": 14,
   "id": "8218b42d",
   "metadata": {},
   "outputs": [],
   "source": [
    "with gzip.GzipFile('/Users/daya/Desktop/Pay/FR/brands.json.gz','r',) as fin:\n",
    "    data =[]\n",
    "    for line in fin:\n",
    "        data.append(json.loads(line.decode('utf-8')))"
   ]
  },
  {
   "cell_type": "code",
   "execution_count": 15,
   "id": "0dd69e17",
   "metadata": {},
   "outputs": [],
   "source": [
    "brands_df = pd.json_normalize(data)"
   ]
  },
  {
   "cell_type": "code",
   "execution_count": 16,
   "id": "c4c33171",
   "metadata": {},
   "outputs": [
    {
     "data": {
      "text/html": [
       "<div>\n",
       "<style scoped>\n",
       "    .dataframe tbody tr th:only-of-type {\n",
       "        vertical-align: middle;\n",
       "    }\n",
       "\n",
       "    .dataframe tbody tr th {\n",
       "        vertical-align: top;\n",
       "    }\n",
       "\n",
       "    .dataframe thead th {\n",
       "        text-align: right;\n",
       "    }\n",
       "</style>\n",
       "<table border=\"1\" class=\"dataframe\">\n",
       "  <thead>\n",
       "    <tr style=\"text-align: right;\">\n",
       "      <th></th>\n",
       "      <th>barcode</th>\n",
       "      <th>category</th>\n",
       "      <th>categoryCode</th>\n",
       "      <th>name</th>\n",
       "      <th>topBrand</th>\n",
       "      <th>_id.$oid</th>\n",
       "      <th>cpg.$id.$oid</th>\n",
       "      <th>cpg.$ref</th>\n",
       "      <th>brandCode</th>\n",
       "    </tr>\n",
       "  </thead>\n",
       "  <tbody>\n",
       "    <tr>\n",
       "      <th>0</th>\n",
       "      <td>511111019862</td>\n",
       "      <td>Baking</td>\n",
       "      <td>BAKING</td>\n",
       "      <td>test brand @1612366101024</td>\n",
       "      <td>False</td>\n",
       "      <td>601ac115be37ce2ead437551</td>\n",
       "      <td>601ac114be37ce2ead437550</td>\n",
       "      <td>Cogs</td>\n",
       "      <td>NaN</td>\n",
       "    </tr>\n",
       "    <tr>\n",
       "      <th>1</th>\n",
       "      <td>511111519928</td>\n",
       "      <td>Beverages</td>\n",
       "      <td>BEVERAGES</td>\n",
       "      <td>Starbucks</td>\n",
       "      <td>False</td>\n",
       "      <td>601c5460be37ce2ead43755f</td>\n",
       "      <td>5332f5fbe4b03c9a25efd0ba</td>\n",
       "      <td>Cogs</td>\n",
       "      <td>STARBUCKS</td>\n",
       "    </tr>\n",
       "    <tr>\n",
       "      <th>2</th>\n",
       "      <td>511111819905</td>\n",
       "      <td>Baking</td>\n",
       "      <td>BAKING</td>\n",
       "      <td>test brand @1612366146176</td>\n",
       "      <td>False</td>\n",
       "      <td>601ac142be37ce2ead43755d</td>\n",
       "      <td>601ac142be37ce2ead437559</td>\n",
       "      <td>Cogs</td>\n",
       "      <td>TEST BRANDCODE @1612366146176</td>\n",
       "    </tr>\n",
       "    <tr>\n",
       "      <th>3</th>\n",
       "      <td>511111519874</td>\n",
       "      <td>Baking</td>\n",
       "      <td>BAKING</td>\n",
       "      <td>test brand @1612366146051</td>\n",
       "      <td>False</td>\n",
       "      <td>601ac142be37ce2ead43755a</td>\n",
       "      <td>601ac142be37ce2ead437559</td>\n",
       "      <td>Cogs</td>\n",
       "      <td>TEST BRANDCODE @1612366146051</td>\n",
       "    </tr>\n",
       "    <tr>\n",
       "      <th>4</th>\n",
       "      <td>511111319917</td>\n",
       "      <td>Candy &amp; Sweets</td>\n",
       "      <td>CANDY_AND_SWEETS</td>\n",
       "      <td>test brand @1612366146827</td>\n",
       "      <td>False</td>\n",
       "      <td>601ac142be37ce2ead43755e</td>\n",
       "      <td>5332fa12e4b03c9a25efd1e7</td>\n",
       "      <td>Cogs</td>\n",
       "      <td>TEST BRANDCODE @1612366146827</td>\n",
       "    </tr>\n",
       "  </tbody>\n",
       "</table>\n",
       "</div>"
      ],
      "text/plain": [
       "        barcode        category      categoryCode                       name  \\\n",
       "0  511111019862          Baking            BAKING  test brand @1612366101024   \n",
       "1  511111519928       Beverages         BEVERAGES                  Starbucks   \n",
       "2  511111819905          Baking            BAKING  test brand @1612366146176   \n",
       "3  511111519874          Baking            BAKING  test brand @1612366146051   \n",
       "4  511111319917  Candy & Sweets  CANDY_AND_SWEETS  test brand @1612366146827   \n",
       "\n",
       "  topBrand                  _id.$oid              cpg.$id.$oid cpg.$ref  \\\n",
       "0    False  601ac115be37ce2ead437551  601ac114be37ce2ead437550     Cogs   \n",
       "1    False  601c5460be37ce2ead43755f  5332f5fbe4b03c9a25efd0ba     Cogs   \n",
       "2    False  601ac142be37ce2ead43755d  601ac142be37ce2ead437559     Cogs   \n",
       "3    False  601ac142be37ce2ead43755a  601ac142be37ce2ead437559     Cogs   \n",
       "4    False  601ac142be37ce2ead43755e  5332fa12e4b03c9a25efd1e7     Cogs   \n",
       "\n",
       "                       brandCode  \n",
       "0                            NaN  \n",
       "1                      STARBUCKS  \n",
       "2  TEST BRANDCODE @1612366146176  \n",
       "3  TEST BRANDCODE @1612366146051  \n",
       "4  TEST BRANDCODE @1612366146827  "
      ]
     },
     "execution_count": 16,
     "metadata": {},
     "output_type": "execute_result"
    }
   ],
   "source": [
    "brands_df.head()"
   ]
  },
  {
   "cell_type": "code",
   "execution_count": 17,
   "id": "33d2c0b7",
   "metadata": {},
   "outputs": [],
   "source": [
    "brands_df = brands_df.rename({'_id.$oid': 'id', 'cpg.$id.$oid':'cpg_oid', 'cpg.$ref': 'cpg_ref'}, axis=1)"
   ]
  },
  {
   "cell_type": "code",
   "execution_count": 18,
   "id": "8082fe2e",
   "metadata": {},
   "outputs": [
    {
     "data": {
      "text/plain": [
       "(1167, 9)"
      ]
     },
     "execution_count": 18,
     "metadata": {},
     "output_type": "execute_result"
    }
   ],
   "source": [
    "brands_df.shape"
   ]
  },
  {
   "cell_type": "code",
   "execution_count": 19,
   "id": "891c4ea9",
   "metadata": {},
   "outputs": [
    {
     "name": "stdout",
     "output_type": "stream",
     "text": [
      "<class 'pandas.core.frame.DataFrame'>\n",
      "RangeIndex: 1167 entries, 0 to 1166\n",
      "Data columns (total 9 columns):\n",
      " #   Column        Non-Null Count  Dtype \n",
      "---  ------        --------------  ----- \n",
      " 0   barcode       1167 non-null   object\n",
      " 1   category      1012 non-null   object\n",
      " 2   categoryCode  517 non-null    object\n",
      " 3   name          1167 non-null   object\n",
      " 4   topBrand      555 non-null    object\n",
      " 5   id            1167 non-null   object\n",
      " 6   cpg_oid       1167 non-null   object\n",
      " 7   cpg_ref       1167 non-null   object\n",
      " 8   brandCode     933 non-null    object\n",
      "dtypes: object(9)\n",
      "memory usage: 82.2+ KB\n"
     ]
    }
   ],
   "source": [
    "brands_df.info()"
   ]
  },
  {
   "cell_type": "code",
   "execution_count": 20,
   "id": "ae832612",
   "metadata": {},
   "outputs": [
    {
     "data": {
      "text/plain": [
       "barcode           0\n",
       "category        155\n",
       "categoryCode    650\n",
       "name              0\n",
       "topBrand        612\n",
       "id                0\n",
       "cpg_oid           0\n",
       "cpg_ref           0\n",
       "brandCode       234\n",
       "dtype: int64"
      ]
     },
     "execution_count": 20,
     "metadata": {},
     "output_type": "execute_result"
    }
   ],
   "source": [
    "# Checking missing values\n",
    "\n",
    "brands_df.isna().sum()"
   ]
  },
  {
   "cell_type": "code",
   "execution_count": 21,
   "id": "ae2eed1f",
   "metadata": {},
   "outputs": [
    {
     "data": {
      "text/plain": [
       "barcode          0.000000\n",
       "category        13.281919\n",
       "categoryCode    55.698372\n",
       "name             0.000000\n",
       "topBrand        52.442159\n",
       "id               0.000000\n",
       "cpg_oid          0.000000\n",
       "cpg_ref          0.000000\n",
       "brandCode       20.051414\n",
       "dtype: float64"
      ]
     },
     "execution_count": 21,
     "metadata": {},
     "output_type": "execute_result"
    }
   ],
   "source": [
    "# Calculatin percentage of missing values \n",
    "brands_df.isna().mean() * 100"
   ]
  },
  {
   "cell_type": "markdown",
   "id": "1db2a2fe",
   "metadata": {},
   "source": [
    "#### It shows that more than 50% of brands are missing category code."
   ]
  },
  {
   "cell_type": "code",
   "execution_count": 22,
   "id": "327b47f2",
   "metadata": {},
   "outputs": [
    {
     "data": {
      "text/html": [
       "<div>\n",
       "<style scoped>\n",
       "    .dataframe tbody tr th:only-of-type {\n",
       "        vertical-align: middle;\n",
       "    }\n",
       "\n",
       "    .dataframe tbody tr th {\n",
       "        vertical-align: top;\n",
       "    }\n",
       "\n",
       "    .dataframe thead th {\n",
       "        text-align: right;\n",
       "    }\n",
       "</style>\n",
       "<table border=\"1\" class=\"dataframe\">\n",
       "  <thead>\n",
       "    <tr style=\"text-align: right;\">\n",
       "      <th></th>\n",
       "      <th>barcode</th>\n",
       "      <th>category</th>\n",
       "      <th>categoryCode</th>\n",
       "      <th>name</th>\n",
       "      <th>topBrand</th>\n",
       "      <th>id</th>\n",
       "      <th>cpg_oid</th>\n",
       "      <th>cpg_ref</th>\n",
       "      <th>brandCode</th>\n",
       "    </tr>\n",
       "  </thead>\n",
       "  <tbody>\n",
       "  </tbody>\n",
       "</table>\n",
       "</div>"
      ],
      "text/plain": [
       "Empty DataFrame\n",
       "Columns: [barcode, category, categoryCode, name, topBrand, id, cpg_oid, cpg_ref, brandCode]\n",
       "Index: []"
      ]
     },
     "execution_count": 22,
     "metadata": {},
     "output_type": "execute_result"
    }
   ],
   "source": [
    "# Check for duplicate records in brands\n",
    "brands_df[brands_df.duplicated()]"
   ]
  },
  {
   "cell_type": "markdown",
   "id": "8bba2f77",
   "metadata": {},
   "source": [
    "#### There are no duplicate records found in brands"
   ]
  },
  {
   "cell_type": "code",
   "execution_count": 23,
   "id": "4b2de78b",
   "metadata": {},
   "outputs": [
    {
     "data": {
      "text/plain": [
       "array(['Baking', 'Beverages', 'Candy & Sweets', 'Condiments & Sauces',\n",
       "       'Canned Goods & Soups', nan, 'Magazines', 'Breakfast & Cereal',\n",
       "       'Beer Wine Spirits', 'Health & Wellness', 'Beauty', 'Baby',\n",
       "       'Frozen', 'Grocery', 'Snacks', 'Household', 'Personal Care',\n",
       "       'Dairy', 'Cleaning & Home Improvement', 'Deli',\n",
       "       'Beauty & Personal Care', 'Bread & Bakery', 'Outdoor',\n",
       "       'Dairy & Refrigerated'], dtype=object)"
      ]
     },
     "execution_count": 23,
     "metadata": {},
     "output_type": "execute_result"
    }
   ],
   "source": [
    "# Finding different categories of brands\n",
    "\n",
    "brands_df['category'].unique()"
   ]
  },
  {
   "cell_type": "code",
   "execution_count": 24,
   "id": "2abaed8b",
   "metadata": {},
   "outputs": [
    {
     "data": {
      "text/plain": [
       "Baking                         31.619537\n",
       "Beer Wine Spirits               7.712082\n",
       "Snacks                          6.426735\n",
       "Candy & Sweets                  6.083976\n",
       "Beverages                       5.398458\n",
       "Health & Wellness               3.770351\n",
       "Magazines                       3.770351\n",
       "Breakfast & Cereal              3.427592\n",
       "Grocery                         3.341902\n",
       "Dairy                           2.827763\n",
       "Condiments & Sauces             2.313625\n",
       "Frozen                          2.056555\n",
       "Personal Care                   1.713796\n",
       "Baby                            1.542416\n",
       "Canned Goods & Soups            1.028278\n",
       "Beauty                          0.771208\n",
       "Deli                            0.514139\n",
       "Cleaning & Home Improvement     0.514139\n",
       "Beauty & Personal Care          0.514139\n",
       "Bread & Bakery                  0.428449\n",
       "Dairy & Refrigerated            0.428449\n",
       "Household                       0.428449\n",
       "Outdoor                         0.085690\n",
       "Name: category, dtype: float64"
      ]
     },
     "execution_count": 24,
     "metadata": {},
     "output_type": "execute_result"
    }
   ],
   "source": [
    "# Finding category wise percentages of brands\n",
    "\n",
    "brands_df['category'].value_counts() /len(brands_df) * 100"
   ]
  },
  {
   "cell_type": "markdown",
   "id": "2bf613d1",
   "metadata": {},
   "source": [
    "It is observed that baking is the top category among the brands"
   ]
  },
  {
   "cell_type": "markdown",
   "id": "566cd270",
   "metadata": {},
   "source": [
    "#### Data Quality Issues in  Brands:\n",
    "\n",
    "##### More than 50% of missing values in categoryCode is a significant data quality issue."
   ]
  },
  {
   "cell_type": "code",
   "execution_count": 25,
   "id": "59cab47a",
   "metadata": {},
   "outputs": [],
   "source": [
    "brands_df.to_excel('/Users/daya/Desktop/Pay/FR/brands.xlsx')"
   ]
  },
  {
   "cell_type": "markdown",
   "id": "455e3491",
   "metadata": {},
   "source": [
    "#### Importing Receipts json"
   ]
  },
  {
   "cell_type": "code",
   "execution_count": 26,
   "id": "875e613f",
   "metadata": {},
   "outputs": [],
   "source": [
    "with gzip.GzipFile('/Users/daya/Desktop/Pay/FR/receipts.json.gz','r',) as fin:\n",
    "    data =[]\n",
    "    for line in fin:\n",
    "        data.append(json.loads(line.decode('utf-8')))"
   ]
  },
  {
   "cell_type": "code",
   "execution_count": 27,
   "id": "2b35755c",
   "metadata": {},
   "outputs": [],
   "source": [
    "receipts_df = pd.json_normalize(data)"
   ]
  },
  {
   "cell_type": "code",
   "execution_count": 28,
   "id": "8ae35c42",
   "metadata": {},
   "outputs": [
    {
     "data": {
      "text/html": [
       "<div>\n",
       "<style scoped>\n",
       "    .dataframe tbody tr th:only-of-type {\n",
       "        vertical-align: middle;\n",
       "    }\n",
       "\n",
       "    .dataframe tbody tr th {\n",
       "        vertical-align: top;\n",
       "    }\n",
       "\n",
       "    .dataframe thead th {\n",
       "        text-align: right;\n",
       "    }\n",
       "</style>\n",
       "<table border=\"1\" class=\"dataframe\">\n",
       "  <thead>\n",
       "    <tr style=\"text-align: right;\">\n",
       "      <th></th>\n",
       "      <th>bonusPointsEarned</th>\n",
       "      <th>bonusPointsEarnedReason</th>\n",
       "      <th>pointsEarned</th>\n",
       "      <th>purchasedItemCount</th>\n",
       "      <th>rewardsReceiptItemList</th>\n",
       "      <th>rewardsReceiptStatus</th>\n",
       "      <th>totalSpent</th>\n",
       "      <th>userId</th>\n",
       "      <th>_id.$oid</th>\n",
       "      <th>createDate.$date</th>\n",
       "      <th>dateScanned.$date</th>\n",
       "      <th>finishedDate.$date</th>\n",
       "      <th>modifyDate.$date</th>\n",
       "      <th>pointsAwardedDate.$date</th>\n",
       "      <th>purchaseDate.$date</th>\n",
       "    </tr>\n",
       "  </thead>\n",
       "  <tbody>\n",
       "    <tr>\n",
       "      <th>0</th>\n",
       "      <td>500.0</td>\n",
       "      <td>Receipt number 2 completed, bonus point schedu...</td>\n",
       "      <td>500.0</td>\n",
       "      <td>5.0</td>\n",
       "      <td>[{'barcode': '4011', 'description': 'ITEM NOT ...</td>\n",
       "      <td>FINISHED</td>\n",
       "      <td>26.00</td>\n",
       "      <td>5ff1e1eacfcf6c399c274ae6</td>\n",
       "      <td>5ff1e1eb0a720f0523000575</td>\n",
       "      <td>1609687531000</td>\n",
       "      <td>1609687531000</td>\n",
       "      <td>1.609688e+12</td>\n",
       "      <td>1609687536000</td>\n",
       "      <td>1.609688e+12</td>\n",
       "      <td>1.609632e+12</td>\n",
       "    </tr>\n",
       "    <tr>\n",
       "      <th>1</th>\n",
       "      <td>150.0</td>\n",
       "      <td>Receipt number 5 completed, bonus point schedu...</td>\n",
       "      <td>150.0</td>\n",
       "      <td>2.0</td>\n",
       "      <td>[{'barcode': '4011', 'description': 'ITEM NOT ...</td>\n",
       "      <td>FINISHED</td>\n",
       "      <td>11.00</td>\n",
       "      <td>5ff1e194b6a9d73a3a9f1052</td>\n",
       "      <td>5ff1e1bb0a720f052300056b</td>\n",
       "      <td>1609687483000</td>\n",
       "      <td>1609687483000</td>\n",
       "      <td>1.609687e+12</td>\n",
       "      <td>1609687488000</td>\n",
       "      <td>1.609687e+12</td>\n",
       "      <td>1.609601e+12</td>\n",
       "    </tr>\n",
       "    <tr>\n",
       "      <th>2</th>\n",
       "      <td>5.0</td>\n",
       "      <td>All-receipts receipt bonus</td>\n",
       "      <td>5</td>\n",
       "      <td>1.0</td>\n",
       "      <td>[{'needsFetchReview': False, 'partnerItemId': ...</td>\n",
       "      <td>REJECTED</td>\n",
       "      <td>10.00</td>\n",
       "      <td>5ff1e1f1cfcf6c399c274b0b</td>\n",
       "      <td>5ff1e1f10a720f052300057a</td>\n",
       "      <td>1609687537000</td>\n",
       "      <td>1609687537000</td>\n",
       "      <td>NaN</td>\n",
       "      <td>1609687542000</td>\n",
       "      <td>NaN</td>\n",
       "      <td>1.609632e+12</td>\n",
       "    </tr>\n",
       "    <tr>\n",
       "      <th>3</th>\n",
       "      <td>5.0</td>\n",
       "      <td>All-receipts receipt bonus</td>\n",
       "      <td>5.0</td>\n",
       "      <td>4.0</td>\n",
       "      <td>[{'barcode': '4011', 'description': 'ITEM NOT ...</td>\n",
       "      <td>FINISHED</td>\n",
       "      <td>28.00</td>\n",
       "      <td>5ff1e1eacfcf6c399c274ae6</td>\n",
       "      <td>5ff1e1ee0a7214ada100056f</td>\n",
       "      <td>1609687534000</td>\n",
       "      <td>1609687534000</td>\n",
       "      <td>1.609688e+12</td>\n",
       "      <td>1609687539000</td>\n",
       "      <td>1.609688e+12</td>\n",
       "      <td>1.609632e+12</td>\n",
       "    </tr>\n",
       "    <tr>\n",
       "      <th>4</th>\n",
       "      <td>5.0</td>\n",
       "      <td>All-receipts receipt bonus</td>\n",
       "      <td>5.0</td>\n",
       "      <td>2.0</td>\n",
       "      <td>[{'barcode': '4011', 'description': 'ITEM NOT ...</td>\n",
       "      <td>FINISHED</td>\n",
       "      <td>1.00</td>\n",
       "      <td>5ff1e194b6a9d73a3a9f1052</td>\n",
       "      <td>5ff1e1d20a7214ada1000561</td>\n",
       "      <td>1609687506000</td>\n",
       "      <td>1609687506000</td>\n",
       "      <td>1.609688e+12</td>\n",
       "      <td>1609687511000</td>\n",
       "      <td>1.609688e+12</td>\n",
       "      <td>1.609601e+12</td>\n",
       "    </tr>\n",
       "  </tbody>\n",
       "</table>\n",
       "</div>"
      ],
      "text/plain": [
       "   bonusPointsEarned                            bonusPointsEarnedReason  \\\n",
       "0              500.0  Receipt number 2 completed, bonus point schedu...   \n",
       "1              150.0  Receipt number 5 completed, bonus point schedu...   \n",
       "2                5.0                         All-receipts receipt bonus   \n",
       "3                5.0                         All-receipts receipt bonus   \n",
       "4                5.0                         All-receipts receipt bonus   \n",
       "\n",
       "  pointsEarned  purchasedItemCount  \\\n",
       "0        500.0                 5.0   \n",
       "1        150.0                 2.0   \n",
       "2            5                 1.0   \n",
       "3          5.0                 4.0   \n",
       "4          5.0                 2.0   \n",
       "\n",
       "                              rewardsReceiptItemList rewardsReceiptStatus  \\\n",
       "0  [{'barcode': '4011', 'description': 'ITEM NOT ...             FINISHED   \n",
       "1  [{'barcode': '4011', 'description': 'ITEM NOT ...             FINISHED   \n",
       "2  [{'needsFetchReview': False, 'partnerItemId': ...             REJECTED   \n",
       "3  [{'barcode': '4011', 'description': 'ITEM NOT ...             FINISHED   \n",
       "4  [{'barcode': '4011', 'description': 'ITEM NOT ...             FINISHED   \n",
       "\n",
       "  totalSpent                    userId                  _id.$oid  \\\n",
       "0      26.00  5ff1e1eacfcf6c399c274ae6  5ff1e1eb0a720f0523000575   \n",
       "1      11.00  5ff1e194b6a9d73a3a9f1052  5ff1e1bb0a720f052300056b   \n",
       "2      10.00  5ff1e1f1cfcf6c399c274b0b  5ff1e1f10a720f052300057a   \n",
       "3      28.00  5ff1e1eacfcf6c399c274ae6  5ff1e1ee0a7214ada100056f   \n",
       "4       1.00  5ff1e194b6a9d73a3a9f1052  5ff1e1d20a7214ada1000561   \n",
       "\n",
       "   createDate.$date  dateScanned.$date  finishedDate.$date  modifyDate.$date  \\\n",
       "0     1609687531000      1609687531000        1.609688e+12     1609687536000   \n",
       "1     1609687483000      1609687483000        1.609687e+12     1609687488000   \n",
       "2     1609687537000      1609687537000                 NaN     1609687542000   \n",
       "3     1609687534000      1609687534000        1.609688e+12     1609687539000   \n",
       "4     1609687506000      1609687506000        1.609688e+12     1609687511000   \n",
       "\n",
       "   pointsAwardedDate.$date  purchaseDate.$date  \n",
       "0             1.609688e+12        1.609632e+12  \n",
       "1             1.609687e+12        1.609601e+12  \n",
       "2                      NaN        1.609632e+12  \n",
       "3             1.609688e+12        1.609632e+12  \n",
       "4             1.609688e+12        1.609601e+12  "
      ]
     },
     "execution_count": 28,
     "metadata": {},
     "output_type": "execute_result"
    }
   ],
   "source": [
    "receipts_df.head()"
   ]
  },
  {
   "cell_type": "code",
   "execution_count": 29,
   "id": "c88a1c94",
   "metadata": {},
   "outputs": [
    {
     "data": {
      "text/plain": [
       "(1119, 15)"
      ]
     },
     "execution_count": 29,
     "metadata": {},
     "output_type": "execute_result"
    }
   ],
   "source": [
    "receipts_df.shape"
   ]
  },
  {
   "cell_type": "code",
   "execution_count": 30,
   "id": "5d6b4e03",
   "metadata": {},
   "outputs": [],
   "source": [
    "receipts_df = receipts_df.explode('rewardsReceiptItemList')\n",
    "receipts_df.reset_index(inplace=True)"
   ]
  },
  {
   "cell_type": "code",
   "execution_count": 31,
   "id": "1fcb5e4d",
   "metadata": {},
   "outputs": [],
   "source": [
    "receipts_df = receipts_df.fillna({'rewardsReceiptItemList':'{}'})\n",
    "receipts_df['rewardsReceiptItemList'] = receipts_df['rewardsReceiptItemList'].apply(lambda x:str(x))\n",
    "receipts_df['rewardsReceiptItemList'] = receipts_df['rewardsReceiptItemList'].apply(literal_eval)"
   ]
  },
  {
   "cell_type": "code",
   "execution_count": 32,
   "id": "7cf4b2b7",
   "metadata": {},
   "outputs": [],
   "source": [
    "receipts_df_norm = pd.json_normalize(receipts_df['rewardsReceiptItemList'], errors='ignore', record_prefix='rewardsReceiptItemList')\\\n",
    ".add_prefix('rewardsReceiptItemList.')"
   ]
  },
  {
   "cell_type": "code",
   "execution_count": 33,
   "id": "90f9e8c1",
   "metadata": {},
   "outputs": [],
   "source": [
    "receipts_df_final = pd.merge(receipts_df, receipts_df_norm, left_index=True,right_index=True, how='outer')"
   ]
  },
  {
   "cell_type": "code",
   "execution_count": 34,
   "id": "3db612a9",
   "metadata": {},
   "outputs": [
    {
     "data": {
      "text/plain": [
       "(7381, 50)"
      ]
     },
     "execution_count": 34,
     "metadata": {},
     "output_type": "execute_result"
    }
   ],
   "source": [
    "receipts_df_final.shape"
   ]
  },
  {
   "cell_type": "code",
   "execution_count": 35,
   "id": "bd6e7001",
   "metadata": {},
   "outputs": [
    {
     "data": {
      "text/plain": [
       "index                                                           0\n",
       "bonusPointsEarned                                            1401\n",
       "bonusPointsEarnedReason                                      1401\n",
       "pointsEarned                                                 1128\n",
       "purchasedItemCount                                            484\n",
       "rewardsReceiptItemList                                          0\n",
       "rewardsReceiptStatus                                            0\n",
       "totalSpent                                                    435\n",
       "userId                                                          0\n",
       "_id.$oid                                                        0\n",
       "createDate.$date                                                0\n",
       "dateScanned.$date                                               0\n",
       "finishedDate.$date                                           1411\n",
       "modifyDate.$date                                                0\n",
       "pointsAwardedDate.$date                                      1301\n",
       "purchaseDate.$date                                            458\n",
       "rewardsReceiptItemList.barcode                               4291\n",
       "rewardsReceiptItemList.description                            821\n",
       "rewardsReceiptItemList.finalPrice                             614\n",
       "rewardsReceiptItemList.itemPrice                              614\n",
       "rewardsReceiptItemList.needsFetchReview                      6568\n",
       "rewardsReceiptItemList.partnerItemId                          440\n",
       "rewardsReceiptItemList.preventTargetGapPoints                7023\n",
       "rewardsReceiptItemList.quantityPurchased                      614\n",
       "rewardsReceiptItemList.userFlaggedBarcode                    7044\n",
       "rewardsReceiptItemList.userFlaggedNewItem                    7058\n",
       "rewardsReceiptItemList.userFlaggedPrice                      7082\n",
       "rewardsReceiptItemList.userFlaggedQuantity                   7082\n",
       "rewardsReceiptItemList.needsFetchReviewReason                7162\n",
       "rewardsReceiptItemList.pointsNotAwardedReason                7041\n",
       "rewardsReceiptItemList.pointsPayerId                         6114\n",
       "rewardsReceiptItemList.rewardsGroup                          5650\n",
       "rewardsReceiptItemList.rewardsProductPartnerId               5112\n",
       "rewardsReceiptItemList.userFlaggedDescription                7176\n",
       "rewardsReceiptItemList.originalMetaBriteBarcode              7310\n",
       "rewardsReceiptItemList.originalMetaBriteDescription          7371\n",
       "rewardsReceiptItemList.brandCode                             4781\n",
       "rewardsReceiptItemList.competitorRewardsGroup                7106\n",
       "rewardsReceiptItemList.discountedItemPrice                   1612\n",
       "rewardsReceiptItemList.originalReceiptItemText               1621\n",
       "rewardsReceiptItemList.itemNumber                            7228\n",
       "rewardsReceiptItemList.originalMetaBriteQuantityPurchased    7366\n",
       "rewardsReceiptItemList.pointsEarned                          6454\n",
       "rewardsReceiptItemList.targetPrice                           7003\n",
       "rewardsReceiptItemList.competitiveProduct                    6736\n",
       "rewardsReceiptItemList.originalFinalPrice                    7372\n",
       "rewardsReceiptItemList.originalMetaBriteItemPrice            7372\n",
       "rewardsReceiptItemList.deleted                               7372\n",
       "rewardsReceiptItemList.priceAfterCoupon                      6425\n",
       "rewardsReceiptItemList.metabriteCampaignId                   6518\n",
       "dtype: int64"
      ]
     },
     "execution_count": 35,
     "metadata": {},
     "output_type": "execute_result"
    }
   ],
   "source": [
    "# Check missing values in receipts\n",
    "\n",
    "receipts_df_final.isna().sum()"
   ]
  },
  {
   "cell_type": "code",
   "execution_count": 36,
   "id": "179fd880",
   "metadata": {},
   "outputs": [
    {
     "data": {
      "text/plain": [
       "index                                                         0.000000\n",
       "bonusPointsEarned                                            18.981168\n",
       "bonusPointsEarnedReason                                      18.981168\n",
       "pointsEarned                                                 15.282482\n",
       "purchasedItemCount                                            6.557377\n",
       "rewardsReceiptItemList                                        0.000000\n",
       "rewardsReceiptStatus                                          0.000000\n",
       "totalSpent                                                    5.893510\n",
       "userId                                                        0.000000\n",
       "_id.$oid                                                      0.000000\n",
       "createDate.$date                                              0.000000\n",
       "dateScanned.$date                                             0.000000\n",
       "finishedDate.$date                                           19.116651\n",
       "modifyDate.$date                                              0.000000\n",
       "pointsAwardedDate.$date                                      17.626338\n",
       "purchaseDate.$date                                            6.205121\n",
       "rewardsReceiptItemList.barcode                               58.135754\n",
       "rewardsReceiptItemList.description                           11.123154\n",
       "rewardsReceiptItemList.finalPrice                             8.318656\n",
       "rewardsReceiptItemList.itemPrice                              8.318656\n",
       "rewardsReceiptItemList.needsFetchReview                      88.985232\n",
       "rewardsReceiptItemList.partnerItemId                          5.961252\n",
       "rewardsReceiptItemList.preventTargetGapPoints                95.149709\n",
       "rewardsReceiptItemList.quantityPurchased                      8.318656\n",
       "rewardsReceiptItemList.userFlaggedBarcode                    95.434223\n",
       "rewardsReceiptItemList.userFlaggedNewItem                    95.623899\n",
       "rewardsReceiptItemList.userFlaggedPrice                      95.949058\n",
       "rewardsReceiptItemList.userFlaggedQuantity                   95.949058\n",
       "rewardsReceiptItemList.needsFetchReviewReason                97.032922\n",
       "rewardsReceiptItemList.pointsNotAwardedReason                95.393578\n",
       "rewardsReceiptItemList.pointsPayerId                         82.834304\n",
       "rewardsReceiptItemList.rewardsGroup                          76.547893\n",
       "rewardsReceiptItemList.rewardsProductPartnerId               69.258908\n",
       "rewardsReceiptItemList.userFlaggedDescription                97.222599\n",
       "rewardsReceiptItemList.originalMetaBriteBarcode              99.038071\n",
       "rewardsReceiptItemList.originalMetaBriteDescription          99.864517\n",
       "rewardsReceiptItemList.brandCode                             64.774421\n",
       "rewardsReceiptItemList.competitorRewardsGroup                96.274218\n",
       "rewardsReceiptItemList.discountedItemPrice                   21.839859\n",
       "rewardsReceiptItemList.originalReceiptItemText               21.961794\n",
       "rewardsReceiptItemList.itemNumber                            97.927110\n",
       "rewardsReceiptItemList.originalMetaBriteQuantityPurchased    99.796776\n",
       "rewardsReceiptItemList.pointsEarned                          87.440726\n",
       "rewardsReceiptItemList.targetPrice                           94.878743\n",
       "rewardsReceiptItemList.competitiveProduct                    91.261347\n",
       "rewardsReceiptItemList.originalFinalPrice                    99.878065\n",
       "rewardsReceiptItemList.originalMetaBriteItemPrice            99.878065\n",
       "rewardsReceiptItemList.deleted                               99.878065\n",
       "rewardsReceiptItemList.priceAfterCoupon                      87.047825\n",
       "rewardsReceiptItemList.metabriteCampaignId                   88.307817\n",
       "dtype: float64"
      ]
     },
     "execution_count": 36,
     "metadata": {},
     "output_type": "execute_result"
    }
   ],
   "source": [
    "receipts_df_final.isna().mean()*100"
   ]
  },
  {
   "cell_type": "markdown",
   "id": "035d7d9d",
   "metadata": {},
   "source": [
    "Observations on data quality:\n",
    "1. pointsEarned are missing in approximately 15% of records. If no points were earned then it should have been 0 but missing values indicate that the data for points earned was not recorded.\n",
    "2. puchaseDate, purchasedItemCount is missing for about 6% of records. It could pose an issue if rewards are claimed post purchase to validate if the rewards were applicable during the purchase.\n",
    "3. rewardsReceiptItemList.barcode is missing for about 58% records. It can be a major issue since we can't identify a product purchased without barcode."
   ]
  },
  {
   "cell_type": "code",
   "execution_count": 37,
   "id": "b2925389",
   "metadata": {},
   "outputs": [],
   "source": [
    "receipts_brandCode = receipts_df_final.dropna(subset=['rewardsReceiptItemList.brandCode'])"
   ]
  },
  {
   "cell_type": "code",
   "execution_count": 38,
   "id": "2e817334",
   "metadata": {},
   "outputs": [],
   "source": [
    "brands_brandCode = brands_df.dropna(subset=['brandCode'])"
   ]
  },
  {
   "cell_type": "code",
   "execution_count": 39,
   "id": "2dcc5a2f",
   "metadata": {},
   "outputs": [
    {
     "data": {
      "text/html": [
       "<div>\n",
       "<style scoped>\n",
       "    .dataframe tbody tr th:only-of-type {\n",
       "        vertical-align: middle;\n",
       "    }\n",
       "\n",
       "    .dataframe tbody tr th {\n",
       "        vertical-align: top;\n",
       "    }\n",
       "\n",
       "    .dataframe thead th {\n",
       "        text-align: right;\n",
       "    }\n",
       "</style>\n",
       "<table border=\"1\" class=\"dataframe\">\n",
       "  <thead>\n",
       "    <tr style=\"text-align: right;\">\n",
       "      <th></th>\n",
       "      <th>barcode</th>\n",
       "      <th>category</th>\n",
       "      <th>categoryCode</th>\n",
       "      <th>name</th>\n",
       "      <th>topBrand</th>\n",
       "      <th>id</th>\n",
       "      <th>cpg_oid</th>\n",
       "      <th>cpg_ref</th>\n",
       "      <th>brandCode</th>\n",
       "    </tr>\n",
       "  </thead>\n",
       "  <tbody>\n",
       "    <tr>\n",
       "      <th>1</th>\n",
       "      <td>511111519928</td>\n",
       "      <td>Beverages</td>\n",
       "      <td>BEVERAGES</td>\n",
       "      <td>Starbucks</td>\n",
       "      <td>False</td>\n",
       "      <td>601c5460be37ce2ead43755f</td>\n",
       "      <td>5332f5fbe4b03c9a25efd0ba</td>\n",
       "      <td>Cogs</td>\n",
       "      <td>STARBUCKS</td>\n",
       "    </tr>\n",
       "    <tr>\n",
       "      <th>2</th>\n",
       "      <td>511111819905</td>\n",
       "      <td>Baking</td>\n",
       "      <td>BAKING</td>\n",
       "      <td>test brand @1612366146176</td>\n",
       "      <td>False</td>\n",
       "      <td>601ac142be37ce2ead43755d</td>\n",
       "      <td>601ac142be37ce2ead437559</td>\n",
       "      <td>Cogs</td>\n",
       "      <td>TEST BRANDCODE @1612366146176</td>\n",
       "    </tr>\n",
       "    <tr>\n",
       "      <th>3</th>\n",
       "      <td>511111519874</td>\n",
       "      <td>Baking</td>\n",
       "      <td>BAKING</td>\n",
       "      <td>test brand @1612366146051</td>\n",
       "      <td>False</td>\n",
       "      <td>601ac142be37ce2ead43755a</td>\n",
       "      <td>601ac142be37ce2ead437559</td>\n",
       "      <td>Cogs</td>\n",
       "      <td>TEST BRANDCODE @1612366146051</td>\n",
       "    </tr>\n",
       "    <tr>\n",
       "      <th>4</th>\n",
       "      <td>511111319917</td>\n",
       "      <td>Candy &amp; Sweets</td>\n",
       "      <td>CANDY_AND_SWEETS</td>\n",
       "      <td>test brand @1612366146827</td>\n",
       "      <td>False</td>\n",
       "      <td>601ac142be37ce2ead43755e</td>\n",
       "      <td>5332fa12e4b03c9a25efd1e7</td>\n",
       "      <td>Cogs</td>\n",
       "      <td>TEST BRANDCODE @1612366146827</td>\n",
       "    </tr>\n",
       "    <tr>\n",
       "      <th>5</th>\n",
       "      <td>511111719885</td>\n",
       "      <td>Baking</td>\n",
       "      <td>BAKING</td>\n",
       "      <td>test brand @1612366146091</td>\n",
       "      <td>False</td>\n",
       "      <td>601ac142be37ce2ead43755b</td>\n",
       "      <td>601ac142be37ce2ead437559</td>\n",
       "      <td>Cogs</td>\n",
       "      <td>TEST BRANDCODE @1612366146091</td>\n",
       "    </tr>\n",
       "    <tr>\n",
       "      <th>...</th>\n",
       "      <td>...</td>\n",
       "      <td>...</td>\n",
       "      <td>...</td>\n",
       "      <td>...</td>\n",
       "      <td>...</td>\n",
       "      <td>...</td>\n",
       "      <td>...</td>\n",
       "      <td>...</td>\n",
       "      <td>...</td>\n",
       "    </tr>\n",
       "    <tr>\n",
       "      <th>1161</th>\n",
       "      <td>511111403845</td>\n",
       "      <td>Beer Wine Spirits</td>\n",
       "      <td>NaN</td>\n",
       "      <td>Blue Moon</td>\n",
       "      <td>False</td>\n",
       "      <td>5332f709e4b03c9a25efd0f2</td>\n",
       "      <td>5332f709e4b03c9a25efd0f1</td>\n",
       "      <td>Cogs</td>\n",
       "      <td>BLUE MOON</td>\n",
       "    </tr>\n",
       "    <tr>\n",
       "      <th>1163</th>\n",
       "      <td>511111706328</td>\n",
       "      <td>Breakfast &amp; Cereal</td>\n",
       "      <td>NaN</td>\n",
       "      <td>Dippin Dots® Cereal</td>\n",
       "      <td>NaN</td>\n",
       "      <td>5dc1fca91dda2c0ad7da64ae</td>\n",
       "      <td>53e10d6368abd3c7065097cc</td>\n",
       "      <td>Cogs</td>\n",
       "      <td>DIPPIN DOTS CEREAL</td>\n",
       "    </tr>\n",
       "    <tr>\n",
       "      <th>1164</th>\n",
       "      <td>511111416173</td>\n",
       "      <td>Candy &amp; Sweets</td>\n",
       "      <td>CANDY_AND_SWEETS</td>\n",
       "      <td>test brand @1598639215217</td>\n",
       "      <td>NaN</td>\n",
       "      <td>5f494c6e04db711dd8fe87e7</td>\n",
       "      <td>5332fa12e4b03c9a25efd1e7</td>\n",
       "      <td>Cogs</td>\n",
       "      <td>TEST BRANDCODE @1598639215217</td>\n",
       "    </tr>\n",
       "    <tr>\n",
       "      <th>1165</th>\n",
       "      <td>511111400608</td>\n",
       "      <td>Grocery</td>\n",
       "      <td>NaN</td>\n",
       "      <td>LIPTON TEA Leaves</td>\n",
       "      <td>False</td>\n",
       "      <td>5a021611e4b00efe02b02a57</td>\n",
       "      <td>5332f5f6e4b03c9a25efd0b4</td>\n",
       "      <td>Cogs</td>\n",
       "      <td>LIPTON TEA Leaves</td>\n",
       "    </tr>\n",
       "    <tr>\n",
       "      <th>1166</th>\n",
       "      <td>511111019930</td>\n",
       "      <td>Baking</td>\n",
       "      <td>BAKING</td>\n",
       "      <td>test brand @1613158231643</td>\n",
       "      <td>False</td>\n",
       "      <td>6026d757be37ce6369301468</td>\n",
       "      <td>6026d757be37ce6369301467</td>\n",
       "      <td>Cogs</td>\n",
       "      <td>TEST BRANDCODE @1613158231644</td>\n",
       "    </tr>\n",
       "  </tbody>\n",
       "</table>\n",
       "<p>933 rows × 9 columns</p>\n",
       "</div>"
      ],
      "text/plain": [
       "           barcode            category      categoryCode  \\\n",
       "1     511111519928           Beverages         BEVERAGES   \n",
       "2     511111819905              Baking            BAKING   \n",
       "3     511111519874              Baking            BAKING   \n",
       "4     511111319917      Candy & Sweets  CANDY_AND_SWEETS   \n",
       "5     511111719885              Baking            BAKING   \n",
       "...            ...                 ...               ...   \n",
       "1161  511111403845   Beer Wine Spirits               NaN   \n",
       "1163  511111706328  Breakfast & Cereal               NaN   \n",
       "1164  511111416173      Candy & Sweets  CANDY_AND_SWEETS   \n",
       "1165  511111400608             Grocery               NaN   \n",
       "1166  511111019930              Baking            BAKING   \n",
       "\n",
       "                           name topBrand                        id  \\\n",
       "1                     Starbucks    False  601c5460be37ce2ead43755f   \n",
       "2     test brand @1612366146176    False  601ac142be37ce2ead43755d   \n",
       "3     test brand @1612366146051    False  601ac142be37ce2ead43755a   \n",
       "4     test brand @1612366146827    False  601ac142be37ce2ead43755e   \n",
       "5     test brand @1612366146091    False  601ac142be37ce2ead43755b   \n",
       "...                         ...      ...                       ...   \n",
       "1161                  Blue Moon    False  5332f709e4b03c9a25efd0f2   \n",
       "1163        Dippin Dots® Cereal      NaN  5dc1fca91dda2c0ad7da64ae   \n",
       "1164  test brand @1598639215217      NaN  5f494c6e04db711dd8fe87e7   \n",
       "1165          LIPTON TEA Leaves    False  5a021611e4b00efe02b02a57   \n",
       "1166  test brand @1613158231643    False  6026d757be37ce6369301468   \n",
       "\n",
       "                       cpg_oid cpg_ref                      brandCode  \n",
       "1     5332f5fbe4b03c9a25efd0ba    Cogs                      STARBUCKS  \n",
       "2     601ac142be37ce2ead437559    Cogs  TEST BRANDCODE @1612366146176  \n",
       "3     601ac142be37ce2ead437559    Cogs  TEST BRANDCODE @1612366146051  \n",
       "4     5332fa12e4b03c9a25efd1e7    Cogs  TEST BRANDCODE @1612366146827  \n",
       "5     601ac142be37ce2ead437559    Cogs  TEST BRANDCODE @1612366146091  \n",
       "...                        ...     ...                            ...  \n",
       "1161  5332f709e4b03c9a25efd0f1    Cogs                      BLUE MOON  \n",
       "1163  53e10d6368abd3c7065097cc    Cogs             DIPPIN DOTS CEREAL  \n",
       "1164  5332fa12e4b03c9a25efd1e7    Cogs  TEST BRANDCODE @1598639215217  \n",
       "1165  5332f5f6e4b03c9a25efd0b4    Cogs              LIPTON TEA Leaves  \n",
       "1166  6026d757be37ce6369301467    Cogs  TEST BRANDCODE @1613158231644  \n",
       "\n",
       "[933 rows x 9 columns]"
      ]
     },
     "execution_count": 39,
     "metadata": {},
     "output_type": "execute_result"
    }
   ],
   "source": [
    "brands_brandCode"
   ]
  },
  {
   "cell_type": "code",
   "execution_count": 40,
   "id": "1d880489",
   "metadata": {},
   "outputs": [],
   "source": [
    "unmapped_brands = receipts_brandCode[~(receipts_brandCode['rewardsReceiptItemList.brandCode'].isin(brands_brandCode['brandCode']))]['rewardsReceiptItemList.brandCode'].sort_values().unique()"
   ]
  },
  {
   "cell_type": "code",
   "execution_count": 41,
   "id": "6b65feac",
   "metadata": {},
   "outputs": [
    {
     "data": {
      "text/plain": [
       "186"
      ]
     },
     "execution_count": 41,
     "metadata": {},
     "output_type": "execute_result"
    }
   ],
   "source": [
    "len(unmapped_brands)"
   ]
  },
  {
   "cell_type": "markdown",
   "id": "695dc038",
   "metadata": {},
   "source": [
    "There are about 186 products in receipts of brands which are not included in the brands dataset."
   ]
  },
  {
   "cell_type": "code",
   "execution_count": 42,
   "id": "b3b38a01",
   "metadata": {},
   "outputs": [],
   "source": [
    "unmapped_users = receipts_df_final[~(receipts_df_final['userId'].isin(users_df['id']))]['userId'].unique()"
   ]
  },
  {
   "cell_type": "code",
   "execution_count": 43,
   "id": "20651395",
   "metadata": {},
   "outputs": [
    {
     "data": {
      "text/plain": [
       "117"
      ]
     },
     "execution_count": 43,
     "metadata": {},
     "output_type": "execute_result"
    }
   ],
   "source": [
    "len(unmapped_users)"
   ]
  },
  {
   "cell_type": "markdown",
   "id": "148ffc77",
   "metadata": {},
   "source": [
    "There are about 117 users from receipts whose id doesnot exist in users dataset."
   ]
  },
  {
   "cell_type": "markdown",
   "id": "d714c343",
   "metadata": {},
   "source": [
    "#### Third: Summary of data quality issues in the datasets\n",
    "1. More than 50% user records are duplicate. \n",
    "2. More than 50% of missing values in categoryCode.\n",
    "3. pointsEarned are missing in approximately 15% of records. If no points were earned then it should have been 0 but missing values indicate that the data for points earned was not recorded.\n",
    "4. purchaseDate, purchasedItemCount is missing for about 6% of records. It could pose an issue if rewards are claimed post purchase to validate if the rewards were applicable during the purchase.\n",
    "5. rewardsReceiptItemList.barcode is missing for about 58% records. It can be a major issue since we can't identify a product purchased without barcode.\n",
    "6. There are about 186 products in receipts of brands which are not included in the brands dataset.\n",
    "7. There are about 117 users from receipts whose id doesnot exist in users dataset."
   ]
  },
  {
   "cell_type": "code",
   "execution_count": 44,
   "id": "d741b0a3",
   "metadata": {},
   "outputs": [],
   "source": [
    "receipts_df_final.to_excel('/Users/daya/Desktop/Pay/FR/receipts.xlsx')"
   ]
  }
 ],
 "metadata": {
  "kernelspec": {
   "display_name": "Python 3",
   "language": "python",
   "name": "python3"
  },
  "language_info": {
   "codemirror_mode": {
    "name": "ipython",
    "version": 3
   },
   "file_extension": ".py",
   "mimetype": "text/x-python",
   "name": "python",
   "nbconvert_exporter": "python",
   "pygments_lexer": "ipython3",
   "version": "3.8.8"
  }
 },
 "nbformat": 4,
 "nbformat_minor": 5
}
